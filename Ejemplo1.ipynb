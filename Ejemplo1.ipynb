{
 "cells": [
  {
   "cell_type": "code",
   "execution_count": 2,
   "metadata": {},
   "outputs": [
    {
     "name": "stdout",
     "output_type": "stream",
     "text": [
      "La letra de la cadena es L\n",
      "La letra de la cadena es o\n",
      "La letra de la cadena es j\n",
      "La letra de la cadena es a\n",
      "La letra de la cadena es  \n",
      "La letra de la cadena es c\n",
      "La letra de la cadena es i\n",
      "La letra de la cadena es u\n",
      "La letra de la cadena es d\n",
      "La letra de la cadena es a\n",
      "La letra de la cadena es d\n",
      "La letra de la cadena es  \n",
      "La letra de la cadena es d\n",
      "La letra de la cadena es e\n",
      "La letra de la cadena es l\n",
      "La letra de la cadena es  \n",
      "La letra de la cadena es e\n",
      "La letra de la cadena es c\n",
      "La letra de la cadena es u\n",
      "La letra de la cadena es a\n",
      "La letra de la cadena es d\n",
      "La letra de la cadena es o\n",
      "La letra de la cadena es r\n"
     ]
    }
   ],
   "source": [
    "cadena = \"Loja ciudad del ecuador\"\n",
    "\n",
    "for x in cadena:\n",
    "    print(\"La letra de la cadena es %s\" %x)"
   ]
  },
  {
   "cell_type": "code",
   "execution_count": null,
   "metadata": {},
   "outputs": [],
   "source": []
  }
 ],
 "metadata": {
  "kernelspec": {
   "display_name": "Python 2",
   "language": "python",
   "name": "python2"
  },
  "language_info": {
   "codemirror_mode": {
    "name": "ipython",
    "version": 2
   },
   "file_extension": ".py",
   "mimetype": "text/x-python",
   "name": "python",
   "nbconvert_exporter": "python",
   "pygments_lexer": "ipython2",
   "version": "2.7.12"
  }
 },
 "nbformat": 4,
 "nbformat_minor": 2
}
